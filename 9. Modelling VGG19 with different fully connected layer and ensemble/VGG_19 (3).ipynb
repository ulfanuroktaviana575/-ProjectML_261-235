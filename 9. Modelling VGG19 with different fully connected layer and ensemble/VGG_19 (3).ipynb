{
  "nbformat": 4,
  "nbformat_minor": 0,
  "metadata": {
    "colab": {
      "name": "Ensemble (2).ipynb",
      "provenance": [],
      "collapsed_sections": []
    },
    "kernelspec": {
      "name": "python3",
      "display_name": "Python 3"
    },
    "language_info": {
      "name": "python"
    },
    "accelerator": "GPU"
  },
  "cells": [
    {
      "cell_type": "code",
      "metadata": {
        "id": "0Y1gp9g14mx8"
      },
      "source": [
        "# import some of library that we need to look the confusion matrix, recall, f1_score, and accuracy score to look how much your model is well\n",
        "import numpy as np \n",
        "from keras.preprocessing.image import ImageDataGenerator\n",
        "import matplotlib.pyplot as plt\n",
        "from sklearn.metrics import f1_score, recall_score, accuracy_score\n",
        "from sklearn.metrics import precision_score, confusion_matrix, classification_report\n",
        "from sklearn import metrics\n",
        "\n",
        "import seaborn as sns\n",
        "sns.set(style='whitegrid')"
      ],
      "execution_count": null,
      "outputs": []
    },
    {
      "cell_type": "code",
      "metadata": {
        "id": "h-V4RjUj4pY9"
      },
      "source": [
        "# import some of library to evaluate model\n",
        "import os\n",
        "import cv2\n",
        "import matplotlib.pyplot as plt\n",
        "import numpy as np\n",
        "import os\n",
        "import shutil\n",
        "import tensorflow as tf\n",
        "from keras.preprocessing import image\n",
        "from tensorflow.keras.preprocessing.image import ImageDataGenerator\n",
        "\n",
        "%matplotlib inline"
      ],
      "execution_count": null,
      "outputs": []
    },
    {
      "cell_type": "code",
      "metadata": {
        "id": "GHSpNi464rvd"
      },
      "source": [
        "# import library to build our model\n",
        "import os\n",
        "import matplotlib.pyplot as plt\n",
        "from tensorflow.keras.optimizers import Adam\n",
        "from tensorflow.keras.preprocessing.image import ImageDataGenerator\n",
        "from tensorflow.keras.layers import Dropout, Flatten, Dense, BatchNormalization\n",
        "from tensorflow.keras.callbacks import EarlyStopping, ModelCheckpoint\n",
        "from tensorflow.keras.models import Model\n",
        "\n",
        "import tensorflow as tf\n",
        "from tensorflow.keras.applications.vgg19 import preprocess_input\n",
        "\n",
        "\n",
        "# plotting\n",
        "%matplotlib inline\n",
        "\n",
        "import matplotlib.pyplot as plt\n",
        "import matplotlib.image as mpimg"
      ],
      "execution_count": null,
      "outputs": []
    },
    {
      "cell_type": "code",
      "metadata": {
        "colab": {
          "base_uri": "https://localhost:8080/"
        },
        "id": "vosXm921zqrI",
        "outputId": "66ecde5e-b60e-4892-9a92-ba705e65f419"
      },
      "source": [
        "from google.colab import drive\n",
        "drive.mount('/content/gdrive')"
      ],
      "execution_count": null,
      "outputs": [
        {
          "output_type": "stream",
          "name": "stdout",
          "text": [
            "Mounted at /content/gdrive\n"
          ]
        }
      ]
    },
    {
      "cell_type": "code",
      "metadata": {
        "id": "oYIejfSN3Y6m"
      },
      "source": [
        "from keras.models import load_model\n",
        "model1 = load_model('/content/gdrive/MyDrive/1. Colab Notebooks/semester 7/Pembelajaran Mesin/Tugas Besar/0. ensemble/3. Modelling VGG19/model_drop_batch_weight_from_callback_VGG19.h5')\n",
        "model2 = load_model('/content/gdrive/MyDrive/1. Colab Notebooks/semester 7/Pembelajaran Mesin/Tugas Besar/0. ensemble/6. Modelling VGG19 v3/model_drop_batch_weight_from_callback_VGG20.h5')\n",
        "# model3 = load_model('/content/gdrive/MyDrive/1. Colab Notebooks/semester 7/Pembelajaran Mesin/Tugas Besar/4. Modelling Inception Resnet V2/model_drop_batch_weight_from_callback_VGG19.h5')\n",
        "\n",
        "\n"
      ],
      "execution_count": null,
      "outputs": []
    },
    {
      "cell_type": "code",
      "metadata": {
        "id": "5hr_NCCimTnE"
      },
      "source": [
        "models = [model1, model2]"
      ],
      "execution_count": null,
      "outputs": []
    },
    {
      "cell_type": "code",
      "metadata": {
        "id": "ftVcugpt36fo"
      },
      "source": [
        "batch_size = 32\n",
        "height = 150 \n",
        "width = 150\n"
      ],
      "execution_count": null,
      "outputs": []
    },
    {
      "cell_type": "code",
      "metadata": {
        "colab": {
          "base_uri": "https://localhost:8080/"
        },
        "id": "bkOpiMFL3xwT",
        "outputId": "db87a099-1f31-4c47-ced0-09343cac7247"
      },
      "source": [
        "TESTING_DIR = '/content/gdrive/MyDrive/1. Colab Notebooks/semester 7/Pembelajaran Mesin/Tugas Besar/Dataset/Splitted 2/test'\n",
        "test_datagen = ImageDataGenerator(preprocessing_function=preprocess_input)\n",
        "test_generator = test_datagen.flow_from_directory(TESTING_DIR,\n",
        "                                                  batch_size=batch_size,                                                             \n",
        "                                                  target_size=(height, width),\n",
        "                                                  class_mode= None,\n",
        "                                                  shuffle=False\n",
        "                                                  )"
      ],
      "execution_count": null,
      "outputs": [
        {
          "output_type": "stream",
          "name": "stdout",
          "text": [
            "Found 24 images belonging to 5 classes.\n"
          ]
        }
      ]
    },
    {
      "cell_type": "code",
      "metadata": {
        "id": "8sn3CLlrzKDO",
        "colab": {
          "base_uri": "https://localhost:8080/"
        },
        "outputId": "c7cec29b-4094-43a5-d468-c437ca0aad5a"
      },
      "source": [
        "pred = []\n",
        "\n",
        "for model in models:\n",
        "  pred.append(model.predict(test_generator, batch_size=32))\n",
        "\n",
        "pred = np.average(pred, axis=0)\n",
        "class_names_test = test_generator.class_indices\n",
        "print(classification_report(test_generator.classes, pred.argmax(axis=1),\n",
        "                            target_names=class_names_test))"
      ],
      "execution_count": null,
      "outputs": [
        {
          "output_type": "stream",
          "name": "stdout",
          "text": [
            "                     precision    recall  f1-score   support\n",
            "\n",
            "        No_findings       1.00      1.00      1.00         5\n",
            "              covid       1.00      1.00      1.00         4\n",
            "             normal       0.83      1.00      0.91         5\n",
            "pneumonia_bacterial       0.80      0.80      0.80         5\n",
            "    pneumonia_viral       0.75      0.60      0.67         5\n",
            "\n",
            "           accuracy                           0.88        24\n",
            "          macro avg       0.88      0.88      0.88        24\n",
            "       weighted avg       0.87      0.88      0.87        24\n",
            "\n"
          ]
        }
      ]
    },
    {
      "cell_type": "code",
      "metadata": {
        "colab": {
          "base_uri": "https://localhost:8080/",
          "height": 994
        },
        "id": "d37WN4Ha_-di",
        "outputId": "6f5218fb-5af5-4755-c5d0-0f4a9e2eab63"
      },
      "source": [
        "def my_metrics(y_true, y_pred):\n",
        "    accuracy=accuracy_score(y_true, y_pred)\n",
        "    print(\"accuracy :\", accuracy)\n",
        "    precision=precision_score(y_true, y_pred,average='weighted')\n",
        "    print(\"Precision : \", precision)\n",
        "    f1Score=f1_score(y_true, y_pred, average='weighted')\n",
        "    print(\"F1-Score : \", f1Score) \n",
        "    cm=confusion_matrix(y_true, y_pred)\n",
        "    return accuracy, precision, f1Score\n",
        "\n",
        "height=150; width=150\n",
        "batch_size=32\n",
        "\n",
        "\n",
        "true_classes = test_generator.classes\n",
        "yPredictions = pred.argmax(axis=1)\n",
        "class_names_test = test_generator.class_indices\n",
        "Cmatrix_test = confusion_matrix(true_classes, yPredictions)\n",
        "\n",
        "testAcc,testPrec, testFScore = my_metrics(true_classes, yPredictions)\n",
        "\n",
        "plt.figure(figsize=(20,20))\n",
        "ax= plt.subplot()\n",
        "data = np.asarray(Cmatrix_test).reshape(5,5)\n",
        "sns.heatmap(data,annot=True, fmt='',ax=ax, cmap=plt.cm.Reds)\n",
        "ax.set_xlabel('Predicted labels')\n",
        "ax.set_ylabel('True labels') \n",
        "ax.set_title('Confusion Matrix')\n",
        "ax.xaxis.set_ticklabels(class_names_test)   \n",
        "ax.yaxis.set_ticklabels(class_names_test)\n",
        "plt.title('Confusion Matrix Test',fontsize=14)\n",
        "plt.show()"
      ],
      "execution_count": null,
      "outputs": [
        {
          "output_type": "stream",
          "name": "stdout",
          "text": [
            "accuracy : 0.8333333333333334\n",
            "Precision :  0.8263888888888888\n",
            "F1-Score :  0.8200757575757575\n"
          ]
        },
        {
          "output_type": "display_data",
          "data": {
            "image/png": "[encoded data removed]",
            "text/plain": [
              "<Figure size 1440x1440 with 2 Axes>"
            ]
          },
          "metadata": {
            "needs_background": "light"
          }
        }
      ]
    }
  ]
}