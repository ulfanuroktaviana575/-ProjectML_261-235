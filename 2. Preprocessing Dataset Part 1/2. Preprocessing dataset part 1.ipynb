{
  "nbformat": 4,
  "nbformat_minor": 0,
  "metadata": {
    "colab": {
      "name": "Split Dataset.ipynb",
      "provenance": [],
      "collapsed_sections": []
    },
    "kernelspec": {
      "name": "python3",
      "display_name": "Python 3"
    },
    "language_info": {
      "name": "python"
    }
  },
  "cells": [
    {
      "cell_type": "code",
      "metadata": {
        "colab": {
          "base_uri": "https://localhost:8080/"
        },
        "id": "4_wmjZuqevri",
        "outputId": "233a933b-7a7c-4b60-f9c7-737757f18e74"
      },
      "source": [
        "from google.colab import drive\n",
        "drive.mount('/content/gdrive')"
      ],
      "execution_count": null,
      "outputs": [
        {
          "output_type": "stream",
          "name": "stdout",
          "text": [
            "Drive already mounted at /content/gdrive; to attempt to forcibly remount, call drive.mount(\"/content/gdrive\", force_remount=True).\n"
          ]
        }
      ]
    },
    {
      "cell_type": "code",
      "metadata": {
        "colab": {
          "base_uri": "https://localhost:8080/"
        },
        "id": "XVQVKX7PfFuq",
        "outputId": "cc9ad943-c3e9-4a3a-ddcf-067f52d66379"
      },
      "source": [
        "# install SPlit folder to split dataset in testing and traning or you can say to split in testing and validation\n",
        "!pip install split_folders\n",
        "import splitfolders"
      ],
      "execution_count": null,
      "outputs": [
        {
          "output_type": "stream",
          "name": "stdout",
          "text": [
            "Collecting split_folders\n",
            "  Downloading split_folders-0.4.3-py3-none-any.whl (7.4 kB)\n",
            "Installing collected packages: split-folders\n",
            "Successfully installed split-folders-0.4.3\n"
          ]
        }
      ]
    },
    {
      "cell_type": "code",
      "metadata": {
        "colab": {
          "base_uri": "https://localhost:8080/"
        },
        "id": "_y9Ui6GxfLKn",
        "outputId": "29effee8-8bc9-4da9-acda-851cfec9fb8f"
      },
      "source": [
        "# split dataset to 80% training and 20%testing\n",
        "input_folder = '/content/gdrive/MyDrive/1. Colab Notebooks/semester 7/Pembelajaran Mesin/Tugas Besar/Dataset/dataset 3'\n",
        "output = '/content/gdrive/MyDrive/1. Colab Notebooks/semester 7/Pembelajaran Mesin/Tugas Besar/Dataset/Splitted'\n",
        "splitfolders.ratio(input_folder, output = output, seed=1337, ratio=(.8, .1, .1))"
      ],
      "execution_count": null,
      "outputs": [
        {
          "output_type": "stream",
          "name": "stderr",
          "text": [
            "Copying files: 2138 files [02:20, 15.24 files/s]\n"
          ]
        }
      ]
    },
    {
      "cell_type": "code",
      "metadata": {
        "id": "AtEPfqfLnHzH"
      },
      "source": [
        "import os\n",
        "\n",
        "# plotting\n",
        "%matplotlib inline\n",
        "\n",
        "import matplotlib.pyplot as plt\n",
        "import matplotlib.image as mpimg"
      ],
      "execution_count": null,
      "outputs": []
    },
    {
      "cell_type": "code",
      "metadata": {
        "colab": {
          "base_uri": "https://localhost:8080/"
        },
        "id": "AYzNGeBZoO2h",
        "outputId": "bc546091-a01e-4c0d-93ab-1a5ffe80cb15"
      },
      "source": [
        "path = '/content/gdrive/MyDrive/1. Colab Notebooks/semester 7/Pembelajaran Mesin/Tugas Besar/Dataset/dataset 3' #Define path\n",
        "\n",
        "covid = len(os.listdir(path+'/covid'))\n",
        "No_findings = len(os.listdir(path+'/No_findings'))\n",
        "normal = len(os.listdir(path+'/normal'))\n",
        "pneumonia_bacterial = len(os.listdir(path+'/pneumonia_bacterial'))\n",
        "pneumonia_viral = len(os.listdir(path+'/pneumonia_viral'))\n",
        "\n",
        "num_datas = covid + No_findings + normal + pneumonia_bacterial + pneumonia_viral\n",
        "print(\"DATASET 3\")\n",
        "print('Number of classes: {}'.format(len(os.listdir(path))))\n",
        "print('Number of datas: {}'.format(num_datas))\n",
        "print(\"\")\n",
        "print(\"Jumlah Masing-Masing Kelas\")\n",
        "print(\"covid :\", covid)\n",
        "print(\"No_findings :\", No_findings)\n",
        "print(\"normal :\", normal)\n",
        "print(\"pneumonia_bacterial :\", pneumonia_bacterial)\n",
        "print(\"pneumonia_viral: \", pneumonia_viral)"
      ],
      "execution_count": null,
      "outputs": [
        {
          "output_type": "stream",
          "name": "stdout",
          "text": [
            "DATASET 3\n",
            "Number of classes: 5\n",
            "Number of datas: 2138\n",
            "\n",
            "Jumlah Masing-Masing Kelas\n",
            "covid : 320\n",
            "No_findings : 500\n",
            "normal : 445\n",
            "pneumonia_bacterial : 449\n",
            "pneumonia_viral:  424\n"
          ]
        }
      ]
    },
    {
      "cell_type": "code",
      "metadata": {
        "colab": {
          "base_uri": "https://localhost:8080/"
        },
        "id": "fXeLTtyBl2BH",
        "outputId": "2e1680a2-a51b-411e-82ff-32e6c4545651"
      },
      "source": [
        "path = '/content/gdrive/MyDrive/1. Colab Notebooks/semester 7/Pembelajaran Mesin/Tugas Besar/Dataset/Splitted/train' #Define path\n",
        "\n",
        "covid = len(os.listdir(path+'/covid'))\n",
        "No_findings = len(os.listdir(path+'/No_findings'))\n",
        "normal = len(os.listdir(path+'/normal'))\n",
        "pneumonia_bacterial = len(os.listdir(path+'/pneumonia_bacterial'))\n",
        "pneumonia_viral = len(os.listdir(path+'/pneumonia_viral'))\n",
        "\n",
        "num_datas = covid + No_findings + normal + pneumonia_bacterial + pneumonia_viral\n",
        "print(\"TRAIN DATASET\")\n",
        "print('Number of classes: {}'.format(len(os.listdir(path))))\n",
        "print('Number of datas: {}'.format(num_datas))\n",
        "print(\"\")\n",
        "print(\"Jumlah Masing-Masing Kelas\")\n",
        "print(\"covid :\", covid)\n",
        "print(\"No_findings :\", No_findings)\n",
        "print(\"normal :\", normal)\n",
        "print(\"pneumonia_bacterial :\", pneumonia_bacterial)\n",
        "print(\"pneumonia_viral: \", pneumonia_viral)"
      ],
      "execution_count": null,
      "outputs": [
        {
          "output_type": "stream",
          "name": "stdout",
          "text": [
            "TRAIN DATASET\n",
            "Number of classes: 5\n",
            "Number of datas: 1710\n",
            "\n",
            "Jumlah Masing-Masing Kelas\n",
            "covid : 256\n",
            "No_findings : 400\n",
            "normal : 356\n",
            "pneumonia_bacterial : 359\n",
            "pneumonia_viral:  339\n"
          ]
        }
      ]
    },
    {
      "cell_type": "code",
      "metadata": {
        "colab": {
          "base_uri": "https://localhost:8080/"
        },
        "id": "F0aGqfiXnN1f",
        "outputId": "c77939dd-3c5b-4fd8-d0d5-735dc6151f07"
      },
      "source": [
        "path = '/content/gdrive/MyDrive/1. Colab Notebooks/semester 7/Pembelajaran Mesin/Tugas Besar/Dataset/Splitted/val' #Define path\n",
        "\n",
        "covid = len(os.listdir(path+'/covid'))\n",
        "No_findings = len(os.listdir(path+'/No_findings'))\n",
        "normal = len(os.listdir(path+'/normal'))\n",
        "pneumonia_bacterial = len(os.listdir(path+'/pneumonia_bacterial'))\n",
        "pneumonia_viral = len(os.listdir(path+'/pneumonia_viral'))\n",
        "\n",
        "num_datas = covid + No_findings + normal + pneumonia_bacterial + pneumonia_viral\n",
        "print(\"VALIDATION DATASET\")\n",
        "print('Number of classes: {}'.format(len(os.listdir(path))))\n",
        "print('Number of datas: {}'.format(num_datas))\n",
        "print(\"\")\n",
        "print(\"Jumlah Masing-Masing Kelas\")\n",
        "print(\"covid :\", covid)\n",
        "print(\"No_findings :\", No_findings)\n",
        "print(\"normal :\", normal)\n",
        "print(\"pneumonia_bacterial :\", pneumonia_bacterial)\n",
        "print(\"pneumonia_viral: \", pneumonia_viral)"
      ],
      "execution_count": null,
      "outputs": [
        {
          "output_type": "stream",
          "name": "stdout",
          "text": [
            "VALIDATION DATASET\n",
            "Number of classes: 5\n",
            "Number of datas: 212\n",
            "\n",
            "Jumlah Masing-Masing Kelas\n",
            "covid : 32\n",
            "No_findings : 50\n",
            "normal : 44\n",
            "pneumonia_bacterial : 44\n",
            "pneumonia_viral:  42\n"
          ]
        }
      ]
    },
    {
      "cell_type": "code",
      "metadata": {
        "colab": {
          "base_uri": "https://localhost:8080/"
        },
        "id": "xZfGzN7rn2Sv",
        "outputId": "3651933d-c7bd-48a8-91d7-9018fc425c11"
      },
      "source": [
        "path = '/content/gdrive/MyDrive/1. Colab Notebooks/semester 7/Pembelajaran Mesin/Tugas Besar/Dataset/Splitted/test' #Define path\n",
        "\n",
        "covid = len(os.listdir(path+'/covid'))\n",
        "No_findings = len(os.listdir(path+'/No_findings'))\n",
        "normal = len(os.listdir(path+'/normal'))\n",
        "pneumonia_bacterial = len(os.listdir(path+'/pneumonia_bacterial'))\n",
        "pneumonia_viral = len(os.listdir(path+'/pneumonia_viral'))\n",
        "\n",
        "num_datas = covid + No_findings + normal + pneumonia_bacterial + pneumonia_viral\n",
        "print(\"TEST DATASET\")\n",
        "print('Number of classes: {}'.format(len(os.listdir(path))))\n",
        "print('Number of datas: {}'.format(num_datas))\n",
        "print(\"\")\n",
        "print(\"Jumlah Masing-Masing Kelas\")\n",
        "print(\"covid :\", covid)\n",
        "print(\"No_findings :\", No_findings)\n",
        "print(\"normal :\", normal)\n",
        "print(\"pneumonia_bacterial :\", pneumonia_bacterial)\n",
        "print(\"pneumonia_viral: \", pneumonia_viral)"
      ],
      "execution_count": null,
      "outputs": [
        {
          "output_type": "stream",
          "name": "stdout",
          "text": [
            "TEST DATASET\n",
            "Number of classes: 5\n",
            "Number of datas: 216\n",
            "\n",
            "Jumlah Masing-Masing Kelas\n",
            "covid : 32\n",
            "No_findings : 50\n",
            "normal : 45\n",
            "pneumonia_bacterial : 46\n",
            "pneumonia_viral:  43\n"
          ]
        }
      ]
    }
  ]
}